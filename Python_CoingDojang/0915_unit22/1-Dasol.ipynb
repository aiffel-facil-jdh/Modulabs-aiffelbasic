{
 "cells": [
  {
   "cell_type": "markdown",
   "metadata": {},
   "source": [
    "## 파이썬 combination 함수를 이용한 풀이"
   ]
  },
  {
   "cell_type": "code",
   "execution_count": 27,
   "metadata": {},
   "outputs": [],
   "source": [
    "from itertools import combinations\n",
    "\n",
    "def solution(numbers):\n",
    "    answer = []\n",
    "    tmp = (combinations(numbers, 2))\n",
    "    for i in tmp:\n",
    "        answer.append(i[0]+i[1])\n",
    "        #answer.append(sum(i))\n",
    "    answer = sorted(list(set(answer)))\n",
    "\n",
    "\n",
    "    return answer"
   ]
  },
  {
   "cell_type": "code",
   "execution_count": 28,
   "metadata": {},
   "outputs": [
    {
     "name": "stdout",
     "output_type": "stream",
     "text": [
      "[2, 3, 4, 5, 6, 7]\n",
      "[2, 5, 7, 9, 12]\n"
     ]
    }
   ],
   "source": [
    "print(solution([2,1,3,4,1]))\n",
    "print(solution([5,0,2,7]))"
   ]
  },
  {
   "cell_type": "markdown",
   "metadata": {},
   "source": [
    "## Combination 과 lambda를 이용하여 한 줄로 풀기"
   ]
  },
  {
   "cell_type": "code",
   "execution_count": 29,
   "metadata": {},
   "outputs": [],
   "source": [
    "def solution_short(numbers):\n",
    "    \n",
    "    return sorted(list(set(map(lambda x: x[0]+x[1], combinations(numbers, 2)))))"
   ]
  },
  {
   "cell_type": "code",
   "execution_count": 31,
   "metadata": {},
   "outputs": [
    {
     "name": "stdout",
     "output_type": "stream",
     "text": [
      "[2, 3, 4, 5, 6, 7]\n",
      "[2, 5, 7, 9, 12]\n"
     ]
    }
   ],
   "source": [
    "print(solution_short([2,1,3,4,1]))\n",
    "print(solution_short([5,0,2,7]))"
   ]
  },
  {
   "cell_type": "markdown",
   "metadata": {},
   "source": [
    "## 정석대로 풀기"
   ]
  },
  {
   "cell_type": "code",
   "execution_count": 34,
   "metadata": {},
   "outputs": [],
   "source": [
    "def combination(arr):\n",
    "    res = []\n",
    "    for i in range(len(arr)):\n",
    "        for j in arr[i+1 :]:\n",
    "            res.append((j, arr[i]))\n",
    "    return res"
   ]
  },
  {
   "cell_type": "code",
   "execution_count": 35,
   "metadata": {},
   "outputs": [
    {
     "name": "stdout",
     "output_type": "stream",
     "text": [
      "[(0, 5), (2, 5), (7, 5), (2, 0), (7, 0), (7, 2)]\n"
     ]
    }
   ],
   "source": [
    "print(combination([5,0,2,7]))"
   ]
  },
  {
   "cell_type": "code",
   "execution_count": 48,
   "metadata": {},
   "outputs": [],
   "source": [
    "def solution_manual(numbers):\n",
    "    ans = []\n",
    "    comb = combination(numbers)\n",
    "    for i in comb:\n",
    "        ans.append(i[0]+i[1])\n",
    "    print(ans)\n",
    "    \n",
    "    ans = set(ans)\n",
    "    print(ans)\n",
    "    \n",
    "    return sorted(list(ans))"
   ]
  },
  {
   "cell_type": "code",
   "execution_count": 50,
   "metadata": {},
   "outputs": [
    {
     "name": "stdout",
     "output_type": "stream",
     "text": [
      "[3, 5, 6, 3, 4, 5, 2, 7, 4, 5]\n",
      "{2, 3, 4, 5, 6, 7}\n",
      "[2, 3, 4, 5, 6, 7]\n",
      "[5, 7, 12, 2, 7, 9]\n",
      "{2, 5, 7, 9, 12}\n",
      "[2, 5, 7, 9, 12]\n"
     ]
    }
   ],
   "source": [
    "print(solution_manual([2,1,3,4,1]))\n",
    "print(solution_manual([5,0,2,7]))"
   ]
  },
  {
   "cell_type": "markdown",
   "metadata": {},
   "source": [
    "## combination 함수 직접 구현 및 람다로 짧게 풀기"
   ]
  },
  {
   "cell_type": "code",
   "execution_count": 52,
   "metadata": {},
   "outputs": [],
   "source": [
    "def solution_manual_lambda(numbers):\n",
    "    return sorted(list(set(map(lambda x: sum(x), combination(numbers)))))"
   ]
  },
  {
   "cell_type": "code",
   "execution_count": 53,
   "metadata": {},
   "outputs": [
    {
     "name": "stdout",
     "output_type": "stream",
     "text": [
      "[2, 3, 4, 5, 6, 7]\n",
      "[2, 5, 7, 9, 12]\n"
     ]
    }
   ],
   "source": [
    "print(solution_manual_lambda([2,1,3,4,1]))\n",
    "print(solution_manual_lambda([5,0,2,7]))"
   ]
  },
  {
   "cell_type": "code",
   "execution_count": null,
   "metadata": {},
   "outputs": [],
   "source": []
  }
 ],
 "metadata": {
  "kernelspec": {
   "display_name": "Python 3",
   "language": "python",
   "name": "python3"
  },
  "language_info": {
   "codemirror_mode": {
    "name": "ipython",
    "version": 3
   },
   "file_extension": ".py",
   "mimetype": "text/x-python",
   "name": "python",
   "nbconvert_exporter": "python",
   "pygments_lexer": "ipython3",
   "version": "3.8.3"
  }
 },
 "nbformat": 4,
 "nbformat_minor": 4
}

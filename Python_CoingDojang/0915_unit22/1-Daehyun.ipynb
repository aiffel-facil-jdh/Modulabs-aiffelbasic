{
 "cells": [
  {
   "cell_type": "code",
   "execution_count": 1,
   "metadata": {
    "ExecuteTime": {
     "end_time": "2020-09-15T11:41:04.635065Z",
     "start_time": "2020-09-15T11:41:04.622041Z"
    }
   },
   "outputs": [],
   "source": [
    "def solution(numbers):\n",
    "    answer = set()\n",
    "    for i, num in enumerate(numbers):\n",
    "        answer = answer.union(list(map(lambda x: x+num, numbers[i+1:])))\n",
    "    return sorted(list(answer))"
   ]
  },
  {
   "cell_type": "code",
   "execution_count": 2,
   "metadata": {
    "ExecuteTime": {
     "end_time": "2020-09-15T11:41:04.809074Z",
     "start_time": "2020-09-15T11:41:04.793075Z"
    }
   },
   "outputs": [
    {
     "name": "stdout",
     "output_type": "stream",
     "text": [
      "Given: [2, 1, 3, 4, 1] | Sol:[2, 3, 4, 5, 6, 7] | Ans: [2, 3, 4, 5, 6, 7]\n",
      "Given: [5, 0, 2, 7] | Sol:[2, 5, 7, 9, 12] | Ans: [2, 5, 7, 9, 12]\n"
     ]
    }
   ],
   "source": [
    "if __name__==\"__main__\":\n",
    "    numbers = [2, 1, 3, 4, 1]\n",
    "    print(f'Given: {numbers} | Sol:{solution(numbers)} | Ans: [2, 3, 4, 5, 6, 7]')\n",
    "\n",
    "    numbers = [5, 0, 2, 7]\n",
    "    print(f'Given: {numbers} | Sol:{solution(numbers)} | Ans: [2, 5, 7, 9, 12]')"
   ]
  },
  {
   "cell_type": "code",
   "execution_count": null,
   "metadata": {},
   "outputs": [],
   "source": []
  }
 ],
 "metadata": {
  "kernelspec": {
   "display_name": "Python 3",
   "language": "python",
   "name": "python3"
  },
  "language_info": {
   "codemirror_mode": {
    "name": "ipython",
    "version": 3
   },
   "file_extension": ".py",
   "mimetype": "text/x-python",
   "name": "python",
   "nbconvert_exporter": "python",
   "pygments_lexer": "ipython3",
   "version": "3.7.7"
  },
  "toc": {
   "base_numbering": 1,
   "nav_menu": {},
   "number_sections": true,
   "sideBar": true,
   "skip_h1_title": false,
   "title_cell": "Table of Contents",
   "title_sidebar": "Contents",
   "toc_cell": false,
   "toc_position": {},
   "toc_section_display": true,
   "toc_window_display": false
  }
 },
 "nbformat": 4,
 "nbformat_minor": 4
}

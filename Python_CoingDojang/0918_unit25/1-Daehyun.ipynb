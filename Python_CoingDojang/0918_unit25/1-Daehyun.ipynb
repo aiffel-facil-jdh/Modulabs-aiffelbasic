{
 "metadata": {
  "language_info": {
   "codemirror_mode": {
    "name": "ipython",
    "version": 3
   },
   "file_extension": ".py",
   "mimetype": "text/x-python",
   "name": "python",
   "nbconvert_exporter": "python",
   "pygments_lexer": "ipython3",
   "version": "3.8.3-final"
  },
  "orig_nbformat": 2,
  "kernelspec": {
   "name": "python_defaultSpec_1600425981203",
   "display_name": "Python 3"
  }
 },
 "nbformat": 4,
 "nbformat_minor": 2,
 "cells": [
  {
   "cell_type": "code",
   "execution_count": 1,
   "metadata": {},
   "outputs": [],
   "source": [
    "def solution(array, commands):\n",
    "    return [sorted(array[i-1:j])[k-1] for (i, j, k) in commands]"
   ]
  },
  {
   "cell_type": "code",
   "execution_count": 2,
   "metadata": {
    "tags": []
   },
   "outputs": [
    {
     "output_type": "stream",
     "name": "stdout",
     "text": "array: [1, 5, 2, 6, 3, 7, 4] | commands: [[2, 5, 3], [4, 4, 1], [1, 7, 3]] | sol: [5, 6, 3] | ans: [5, 6, 3]\n"
    }
   ],
   "source": [
    "array, commands = [1, 5, 2, 6, 3, 7, 4], [[2, 5, 3], [4, 4, 1], [1, 7, 3]]\n",
    "print(f'array: {array} | commands: {commands} | sol: {solution(array, commands)} | ans: [5, 6, 3]')"
   ]
  },
  {
   "cell_type": "code",
   "execution_count": null,
   "metadata": {},
   "outputs": [],
   "source": []
  }
 ]
}
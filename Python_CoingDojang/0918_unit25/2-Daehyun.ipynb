{
 "metadata": {
  "language_info": {
   "codemirror_mode": {
    "name": "ipython",
    "version": 3
   },
   "file_extension": ".py",
   "mimetype": "text/x-python",
   "name": "python",
   "nbconvert_exporter": "python",
   "pygments_lexer": "ipython3",
   "version": "3.8.3-final"
  },
  "orig_nbformat": 2,
  "kernelspec": {
   "name": "python_defaultSpec_1600425983589",
   "display_name": "Python 3.8.3 64-bit ('bvenv': conda)"
  }
 },
 "nbformat": 4,
 "nbformat_minor": 2,
 "cells": [
  {
   "cell_type": "code",
   "execution_count": 1,
   "metadata": {},
   "outputs": [],
   "source": [
    "def solution(clothes):\n",
    "    from collections import defaultdict\n",
    "    from functools import reduce\n",
    "    \n",
    "    comb = defaultdict(set)\n",
    "    for (cloth, _type) in clothes:\n",
    "        comb[_type].add(cloth)\n",
    "\n",
    "    if len(comb.keys()) == 1:\n",
    "        return len(comb[list(comb.keys())[0]])\n",
    "    \n",
    "    else:\n",
    "        nums = list(map(lambda x: len(x) + 1, dict(comb).values()))\n",
    "        return reduce(lambda x, y: x * y, nums) - 1"
   ]
  },
  {
   "cell_type": "code",
   "execution_count": 2,
   "metadata": {
    "tags": []
   },
   "outputs": [
    {
     "output_type": "stream",
     "name": "stdout",
     "text": "clothes: [['yellow_hat', 'headgear'], ['blue_sunglasses', 'eyewear'], ['green_turban', 'headgear']] | sol: 5 | ans: 5\n"
    }
   ],
   "source": [
    "clothes = [['yellow_hat', 'headgear'], ['blue_sunglasses', 'eyewear'], ['green_turban', 'headgear']]\n",
    "print(f'clothes: {clothes} | sol: {solution(clothes)} | ans: 5')"
   ]
  },
  {
   "cell_type": "code",
   "execution_count": 4,
   "metadata": {
    "tags": []
   },
   "outputs": [
    {
     "output_type": "stream",
     "name": "stdout",
     "text": "clothes: [['crow_mask', 'face'], ['blue_sunglasses', 'face'], ['smoky_makeup', 'face']] | sol: 3 | ans: 3\n"
    }
   ],
   "source": [
    "clothes = [['crow_mask', 'face'], ['blue_sunglasses', 'face'], ['smoky_makeup', 'face']]\n",
    "print(f'clothes: {clothes} | sol: {solution(clothes)} | ans: 3')"
   ]
  },
  {
   "cell_type": "code",
   "execution_count": null,
   "metadata": {},
   "outputs": [],
   "source": []
  }
 ]
}
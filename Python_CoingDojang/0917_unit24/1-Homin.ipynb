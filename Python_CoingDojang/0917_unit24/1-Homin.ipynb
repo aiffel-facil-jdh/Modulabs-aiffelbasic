{
 "metadata": {
  "language_info": {
   "codemirror_mode": {
    "name": "ipython",
    "version": 3
   },
   "file_extension": ".py",
   "mimetype": "text/x-python",
   "name": "python",
   "nbconvert_exporter": "python",
   "pygments_lexer": "ipython3",
   "version": "3.8.3-final"
  },
  "orig_nbformat": 2,
  "kernelspec": {
   "name": "python_defaultSpec_1600339292810",
   "display_name": "Python 3.8.3 64-bit ('base': conda)"
  }
 },
 "nbformat": 4,
 "nbformat_minor": 2,
 "cells": [
  {
   "cell_type": "code",
   "execution_count": 1,
   "metadata": {},
   "outputs": [],
   "source": [
    "from collections import deque\n",
    "\n",
    "def str2ascii(s):\n",
    "    return list(map(ord, list(s)))\n",
    "\n",
    "def ascii2str(l):\n",
    "    return ''.join(list(map(chr, l)))\n",
    "\n",
    "def solution(s, n):\n",
    "    '''\n",
    "    Large string range : 65 ~ 90\n",
    "    Small string range : 97 ~ 122\n",
    "    '''\n",
    "    l = str2ascii(s)\n",
    "    for i, ele in enumerate(l):\n",
    "        L_s_q = deque(list(range(65, 91)))\n",
    "        S_s_q = deque(list(range(97, 123)))\n",
    "        if (ele >= 65 and ele <= 90):\n",
    "            L_s_q.rotate(-((ele - 65) + n))\n",
    "            l[i] = L_s_q[0]\n",
    "        elif (ele >= 97 and ele <= 122):\n",
    "            S_s_q.rotate(-((ele - 97) + n))\n",
    "            l[i] = S_s_q[0]\n",
    "    \n",
    "    return ascii2str(l)"
   ]
  },
  {
   "cell_type": "code",
   "execution_count": 2,
   "metadata": {},
   "outputs": [
    {
     "output_type": "execute_result",
     "data": {
      "text/plain": "'BC'"
     },
     "metadata": {},
     "execution_count": 2
    }
   ],
   "source": [
    "s, n = \"AB\", 1\n",
    "solution(s, n)"
   ]
  },
  {
   "cell_type": "code",
   "execution_count": 3,
   "metadata": {},
   "outputs": [
    {
     "output_type": "execute_result",
     "data": {
      "text/plain": "'a'"
     },
     "metadata": {},
     "execution_count": 3
    }
   ],
   "source": [
    "s, n = \"z\", 1\n",
    "solution(s, n)"
   ]
  },
  {
   "cell_type": "code",
   "execution_count": 4,
   "metadata": {},
   "outputs": [
    {
     "output_type": "execute_result",
     "data": {
      "text/plain": "'e F d'"
     },
     "metadata": {},
     "execution_count": 4
    }
   ],
   "source": [
    "s, n = \"a B z\", 4\n",
    "solution(s, n)"
   ]
  },
  {
   "cell_type": "code",
   "execution_count": null,
   "metadata": {},
   "outputs": [],
   "source": []
  }
 ]
}
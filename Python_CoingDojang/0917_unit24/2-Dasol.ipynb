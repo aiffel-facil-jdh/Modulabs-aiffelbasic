{
 "cells": [
  {
   "cell_type": "markdown",
   "metadata": {},
   "source": [
    "## 스택으로 풀기\n",
    "주의할 점\n",
    "\n",
    "* 앞부분의 인덱스가 비어있는 공간을 표시(ex.5칸 중 3칸만 인형이 있을 경우 인덱스 0, 1이 비어있는 공간)\n",
    "* break문"
   ]
  },
  {
   "cell_type": "code",
   "execution_count": 11,
   "metadata": {},
   "outputs": [],
   "source": [
    "def solution(board, moves):\n",
    "    stack = [0]\n",
    "    cnt = 0\n",
    "    \n",
    "    # 인형뽑기\n",
    "    for i in moves:\n",
    "        # 인덱스 범위 주의\n",
    "        i = i - 1\n",
    "        \n",
    "        for j in range(len(board)):\n",
    "            # 인형이 있다면\n",
    "            if board[j][i] != 0:\n",
    "                # 바구니의 가장 마지막 인형이 지금 뽑는 인형과 같다면\n",
    "                if stack[-1] == board[j][i]:\n",
    "                    # 바구니에서 삭제\n",
    "                    stack.pop(-1)\n",
    "                    # 인형을 옮기지 말고 바로 지우기\n",
    "                    board[j][i] = 0\n",
    "                    \n",
    "                    cnt += 2\n",
    "        \n",
    "                else:\n",
    "                    # 바구니에 넣기\n",
    "                    stack.append(board[j][i])\n",
    "                    # 인형이 있던 자리는 0(없음)\n",
    "                    board[j][i] = 0\n",
    "                    \n",
    "                break\n",
    "    \n",
    "    return cnt"
   ]
  },
  {
   "cell_type": "code",
   "execution_count": 12,
   "metadata": {},
   "outputs": [
    {
     "name": "stdout",
     "output_type": "stream",
     "text": [
      "4\n"
     ]
    }
   ],
   "source": [
    "board = [[0,0,0,0,0],[0,0,1,0,3],[0,2,5,0,1],[4,2,4,4,2],[3,5,1,3,1]]\n",
    "moves = [1,5,3,5,1,2,1,4]\n",
    "print(solution(board, moves))"
   ]
  },
  {
   "cell_type": "markdown",
   "metadata": {},
   "source": [
    "## 인형 뽑기와 인형 지우기를 나눠서 풀기"
   ]
  },
  {
   "cell_type": "code",
   "execution_count": 17,
   "metadata": {},
   "outputs": [],
   "source": [
    "def solution2(board, moves):\n",
    "    stack = [0]\n",
    "    cnt = 0\n",
    "    \n",
    "    # 인형뽑기\n",
    "    for i in moves:\n",
    "        # 인덱스 범위 주의\n",
    "        i = i - 1\n",
    "        \n",
    "        for j in range(len(board)):\n",
    "            if board[j][i] != 0:\n",
    "                stack.append(board[j][i])\n",
    "                board[j][i] = 0\n",
    "                \n",
    "                # 인형 지우기\n",
    "                if stack[-1] == stack[-2]:\n",
    "                    stack.pop(-1)\n",
    "                    stack.pop(-1)\n",
    "                    cnt += 2\n",
    "                break\n",
    "    \n",
    "    return cnt"
   ]
  },
  {
   "cell_type": "code",
   "execution_count": 18,
   "metadata": {},
   "outputs": [
    {
     "name": "stdout",
     "output_type": "stream",
     "text": [
      "4\n"
     ]
    }
   ],
   "source": [
    "board = [[0,0,0,0,0],[0,0,1,0,3],[0,2,5,0,1],[4,2,4,4,2],[3,5,1,3,1]]\n",
    "moves = [1,5,3,5,1,2,1,4]\n",
    "print(solution2(board, moves))"
   ]
  },
  {
   "cell_type": "code",
   "execution_count": null,
   "metadata": {},
   "outputs": [],
   "source": []
  }
 ],
 "metadata": {
  "kernelspec": {
   "display_name": "Python 3",
   "language": "python",
   "name": "python3"
  },
  "language_info": {
   "codemirror_mode": {
    "name": "ipython",
    "version": 3
   },
   "file_extension": ".py",
   "mimetype": "text/x-python",
   "name": "python",
   "nbconvert_exporter": "python",
   "pygments_lexer": "ipython3",
   "version": "3.8.3"
  }
 },
 "nbformat": 4,
 "nbformat_minor": 4
}

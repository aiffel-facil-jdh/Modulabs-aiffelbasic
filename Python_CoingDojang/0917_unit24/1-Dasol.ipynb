{
 "cells": [
  {
   "cell_type": "markdown",
   "metadata": {},
   "source": [
    "## 이렇게 하면 실패하는 테스트 케이스가 있습니다."
   ]
  },
  {
   "cell_type": "code",
   "execution_count": 109,
   "metadata": {},
   "outputs": [],
   "source": [
    "def solution(s, n):\n",
    "    answer = ''\n",
    "    tmp = []\n",
    "    for i in s:\n",
    "        tmp.append(i)\n",
    "    print(tmp)\n",
    "    ans = []\n",
    "    for i in tmp:\n",
    "        if ord(i) == 32:\n",
    "            ans.append(i)\n",
    "        else:\n",
    "            num = ord(i)+n\n",
    "            if num < 65 or num>122 or 91<=num<=96:\n",
    "                ans.append(chr(num-26))\n",
    "            else:\n",
    "                ans.append(chr(ord(i) + n))\n",
    "        \n",
    "    return \"\".join(ans)"
   ]
  },
  {
   "cell_type": "code",
   "execution_count": 91,
   "metadata": {},
   "outputs": [
    {
     "name": "stdout",
     "output_type": "stream",
     "text": [
      "['Z']\n"
     ]
    },
    {
     "data": {
      "text/plain": [
       "'d'"
      ]
     },
     "execution_count": 91,
     "metadata": {},
     "output_type": "execute_result"
    }
   ],
   "source": [
    "solution('Z', 10)"
   ]
  },
  {
   "cell_type": "markdown",
   "metadata": {},
   "source": [
    "## 조금만 더 생각해보면...!"
   ]
  },
  {
   "cell_type": "code",
   "execution_count": 111,
   "metadata": {},
   "outputs": [],
   "source": [
    "def solution(s, n):\n",
    "    ans = []\n",
    "    tmp = []\n",
    "    \n",
    "    for i in s:\n",
    "        tmp.append(i)\n",
    "    \n",
    "    for i in tmp:\n",
    "        if ord(i) == 32:\n",
    "            ans.append(i)\n",
    "        else:\n",
    "            if 65<=ord(i)<=90:\n",
    "                num = (65+(ord(i) + n - 65)%26)\n",
    "            elif 97<=ord(i)<=122:\n",
    "                num = (97+(ord(i) + n - 97)%26)\n",
    "            ans.append(chr(num))\n",
    "    \n",
    "    return \"\".join(ans)"
   ]
  },
  {
   "cell_type": "code",
   "execution_count": 112,
   "metadata": {},
   "outputs": [
    {
     "name": "stdout",
     "output_type": "stream",
     "text": [
      "BC\n",
      "a\n",
      "b C a\n",
      "J\n"
     ]
    }
   ],
   "source": [
    "print(solution('AB', 1))\n",
    "print(solution('z', 1))\n",
    "print(solution('a B z', 1))\n",
    "print(solution('Z', 10))"
   ]
  },
  {
   "cell_type": "code",
   "execution_count": null,
   "metadata": {},
   "outputs": [],
   "source": []
  }
 ],
 "metadata": {
  "kernelspec": {
   "display_name": "Python 3",
   "language": "python",
   "name": "python3"
  },
  "language_info": {
   "codemirror_mode": {
    "name": "ipython",
    "version": 3
   },
   "file_extension": ".py",
   "mimetype": "text/x-python",
   "name": "python",
   "nbconvert_exporter": "python",
   "pygments_lexer": "ipython3",
   "version": "3.8.3"
  }
 },
 "nbformat": 4,
 "nbformat_minor": 4
}

{
 "metadata": {
  "language_info": {
   "codemirror_mode": {
    "name": "ipython",
    "version": 3
   },
   "file_extension": ".py",
   "mimetype": "text/x-python",
   "name": "python",
   "nbconvert_exporter": "python",
   "pygments_lexer": "ipython3",
   "version": "3.8.3-final"
  },
  "orig_nbformat": 2,
  "kernelspec": {
   "name": "python3",
   "display_name": "Python 3"
  }
 },
 "nbformat": 4,
 "nbformat_minor": 2,
 "cells": [
  {
   "cell_type": "code",
   "execution_count": 1,
   "metadata": {},
   "outputs": [],
   "source": [
    "def solution(s, n):\n",
    "    def push(x):\n",
    "        x = ord(x)\n",
    "        if x == 32:\n",
    "            return chr(x)\n",
    "        \n",
    "        elif 65 <= x <= 90:\n",
    "            return chr(65 + (x+n-65) % 26)\n",
    "        \n",
    "        elif 97 <= x <= 122:\n",
    "            return chr(97 + (x+n-97) % 26)\n",
    "        \n",
    "    answer = ''.join(map(push, s))\n",
    "    return answer"
   ]
  },
  {
   "cell_type": "code",
   "execution_count": 2,
   "metadata": {
    "tags": []
   },
   "outputs": [
    {
     "output_type": "stream",
     "name": "stdout",
     "text": "s: AB | n: 1 | sol: BC | ans: \"BC\"\n"
    }
   ],
   "source": [
    "s, n = \"AB\", 1\n",
    "print(f's: {s} | n: {n} | sol: {solution(s, n)} | ans: \"BC\"')"
   ]
  },
  {
   "cell_type": "code",
   "execution_count": 3,
   "metadata": {
    "tags": []
   },
   "outputs": [
    {
     "output_type": "stream",
     "name": "stdout",
     "text": "s: z | n: 1 | sol: a | ans: \"a\"\n"
    }
   ],
   "source": [
    "s, n = \"z\", 1\n",
    "print(f's: {s} | n: {n} | sol: {solution(s, n)} | ans: \"a\"')"
   ]
  },
  {
   "cell_type": "code",
   "execution_count": 4,
   "metadata": {
    "tags": []
   },
   "outputs": [
    {
     "output_type": "stream",
     "name": "stdout",
     "text": "s: a B z | n: 4 | sol: e F d | ans: \"e F d\"\n"
    }
   ],
   "source": [
    "s, n = \"a B z\", 4\n",
    "print(f's: {s} | n: {n} | sol: {solution(s, n)} | ans: \"e F d\"')"
   ]
  },
  {
   "cell_type": "code",
   "execution_count": null,
   "metadata": {},
   "outputs": [],
   "source": []
  }
 ]
}
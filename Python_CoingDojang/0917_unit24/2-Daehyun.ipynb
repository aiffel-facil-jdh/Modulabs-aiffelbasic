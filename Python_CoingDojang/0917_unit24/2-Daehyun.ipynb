{
 "metadata": {
  "language_info": {
   "codemirror_mode": {
    "name": "ipython",
    "version": 3
   },
   "file_extension": ".py",
   "mimetype": "text/x-python",
   "name": "python",
   "nbconvert_exporter": "python",
   "pygments_lexer": "ipython3",
   "version": "3.8.3-final"
  },
  "orig_nbformat": 2,
  "kernelspec": {
   "name": "python3",
   "display_name": "Python 3"
  }
 },
 "nbformat": 4,
 "nbformat_minor": 2,
 "cells": [
  {
   "cell_type": "code",
   "execution_count": 1,
   "metadata": {},
   "outputs": [],
   "source": [
    "def solution(board, moves):\n",
    "    \n",
    "    basket = [0]\n",
    "    answer = 0\n",
    "    \n",
    "    for m in moves:\n",
    "        \n",
    "        m -= 1\n",
    "        \n",
    "        for i, line in enumerate(board):\n",
    "\n",
    "            if line[m] != 0:\n",
    "\n",
    "                if basket[-1] == line[m]:\n",
    "                    board[i][m] = 0\n",
    "                    basket.pop(-1)\n",
    "                    answer += 2\n",
    "                    \n",
    "                else:\n",
    "                    basket.append(line[m])\n",
    "                    board[i][m] = 0\n",
    "\n",
    "                break\n",
    "    \n",
    "    return answer"
   ]
  },
  {
   "cell_type": "code",
   "execution_count": 2,
   "metadata": {
    "tags": []
   },
   "outputs": [
    {
     "output_type": "stream",
     "name": "stdout",
     "text": "board: [[0, 0, 0, 0, 0], [0, 0, 1, 0, 3], [0, 2, 5, 0, 1], [4, 2, 4, 4, 2], [3, 5, 1, 3, 1]] | moves: [1, 5, 3, 5, 1, 2, 1, 4] | sol: 4 | ans: 4\n"
    }
   ],
   "source": [
    "board = [[0,0,0,0,0],[0,0,1,0,3],[0,2,5,0,1],[4,2,4,4,2],[3,5,1,3,1]]\t\n",
    "moves = [1,5,3,5,1,2,1,4]\n",
    "print(f'board: {board} | moves: {moves} | sol: {solution(board, moves)} | ans: 4')"
   ]
  },
  {
   "cell_type": "code",
   "execution_count": null,
   "metadata": {},
   "outputs": [],
   "source": []
  }
 ]
}
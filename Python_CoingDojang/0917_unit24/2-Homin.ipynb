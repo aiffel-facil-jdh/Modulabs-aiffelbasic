{
 "metadata": {
  "language_info": {
   "codemirror_mode": {
    "name": "ipython",
    "version": 3
   },
   "file_extension": ".py",
   "mimetype": "text/x-python",
   "name": "python",
   "nbconvert_exporter": "python",
   "pygments_lexer": "ipython3",
   "version": "3.8.3-final"
  },
  "orig_nbformat": 2,
  "kernelspec": {
   "name": "python_defaultSpec_1600339403398",
   "display_name": "Python 3.8.3 64-bit ('base': conda)"
  }
 },
 "nbformat": 4,
 "nbformat_minor": 2,
 "cells": [
  {
   "cell_type": "code",
   "execution_count": 1,
   "metadata": {},
   "outputs": [],
   "source": [
    "def get_locate(board, move):\n",
    "    '''\n",
    "    board : current 2d array\n",
    "    move : element\n",
    "    '''\n",
    "    app_loc_list = [x[move - 1] for x in board]\n",
    "    if app_loc_list[-1] == 0:\n",
    "        return None, None, None\n",
    "    for i, val in enumerate(app_loc_list):\n",
    "        if val != 0:\n",
    "            return move - 1, i, val\n",
    "def show_board(board):\n",
    "    for i in range(len(board)):\n",
    "        print(board[i])\n",
    "def solution(board, moves):\n",
    "    '''\n",
    "    board[y][x]\n",
    "    '''\n",
    "    answer = 0\n",
    "    basket_list = list()\n",
    "    for move in moves:\n",
    "        x_id, y_id, value = get_locate(board, move)\n",
    "        if x_id is None:\n",
    "            continue\n",
    "        else:\n",
    "            board[y_id][x_id] = 0\n",
    "            if len(basket_list) == 0:\n",
    "                basket_list.append(value)\n",
    "            elif basket_list[-1] == value:\n",
    "                answer += 2\n",
    "                del basket_list[-1]\n",
    "            else:\n",
    "                basket_list.append(value)\n",
    "    return answer"
   ]
  },
  {
   "cell_type": "code",
   "execution_count": 3,
   "metadata": {},
   "outputs": [
    {
     "output_type": "execute_result",
     "data": {
      "text/plain": "4"
     },
     "metadata": {},
     "execution_count": 3
    }
   ],
   "source": [
    "board = [[0,0,0,0,0],[0,0,1,0,3],[0,2,5,0,1],[4,2,4,4,2],[3,5,1,3,1]]\n",
    "moves = [1,5,3,5,1,2,1,4]\n",
    "solution(board, moves)"
   ]
  },
  {
   "cell_type": "code",
   "execution_count": null,
   "metadata": {},
   "outputs": [],
   "source": []
  }
 ]
}
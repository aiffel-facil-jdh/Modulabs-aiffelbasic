{
 "cells": [
  {
   "cell_type": "code",
   "execution_count": 26,
   "metadata": {
    "scrolled": false
   },
   "outputs": [
    {
     "name": "stdout",
     "output_type": "stream",
     "text": [
      "10 7\n"
     ]
    }
   ],
   "source": [
    "n, k = map(int, input().split())\n",
    "\n",
    "num_list = list(range(2, n+1))\n",
    "\n",
    "count, button = 0, 1\n",
    "while button:\n",
    "    print(num_list)\n",
    "    prime = min(num_list)\n",
    "    \n",
    "    for num in num_list:\n",
    "        \n",
    "        if num % prime == 0:\n",
    "            \n",
    "            count += 1\n",
    "            if count == k:\n",
    "                print(num)\n",
    "                button = 0\n",
    "                \n",
    "            else:\n",
    "                num_list.remove(num)   "
   ]
  },
  {
   "cell_type": "code",
   "execution_count": null,
   "metadata": {},
   "outputs": [],
   "source": []
  }
 ],
 "metadata": {
  "kernelspec": {
   "display_name": "aiffel",
   "language": "python",
   "name": "aiffel"
  },
  "language_info": {
   "codemirror_mode": {
    "name": "ipython",
    "version": 3
   },
   "file_extension": ".py",
   "mimetype": "text/x-python",
   "name": "python",
   "nbconvert_exporter": "python",
   "pygments_lexer": "ipython3",
   "version": "3.7.7"
  }
 },
 "nbformat": 4,
 "nbformat_minor": 4
}

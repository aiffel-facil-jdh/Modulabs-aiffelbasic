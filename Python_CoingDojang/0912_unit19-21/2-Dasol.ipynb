{
 "cells": [
  {
   "cell_type": "code",
   "execution_count": 57,
   "metadata": {},
   "outputs": [],
   "source": [
    "def solution(N, K):\n",
    "    arr = list(range(2, N+1))\n",
    "    print(arr)\n",
    "    cnt = 0\n",
    "    \n",
    "    while cnt < K:\n",
    "        P = min(arr)\n",
    "\n",
    "        for i in arr:\n",
    "            \n",
    "            if i % P == 0:\n",
    "                cnt += 1\n",
    "                if cnt == K :\n",
    "                    print('res', i)\n",
    "                    break\n",
    "                \n",
    "                else:\n",
    "                    arr.remove(i)\n",
    "\n",
    "            "
   ]
  },
  {
   "cell_type": "code",
   "execution_count": 58,
   "metadata": {},
   "outputs": [
    {
     "name": "stdout",
     "output_type": "stream",
     "text": [
      "[2, 3, 4, 5, 6, 7, 8, 9, 10]\n",
      "res 9\n"
     ]
    }
   ],
   "source": [
    "solution(10, 7)"
   ]
  },
  {
   "cell_type": "code",
   "execution_count": null,
   "metadata": {},
   "outputs": [],
   "source": []
  },
  {
   "cell_type": "code",
   "execution_count": null,
   "metadata": {},
   "outputs": [],
   "source": []
  },
  {
   "cell_type": "code",
   "execution_count": null,
   "metadata": {},
   "outputs": [],
   "source": []
  }
 ],
 "metadata": {
  "kernelspec": {
   "display_name": "Python 3",
   "language": "python",
   "name": "python3"
  },
  "language_info": {
   "codemirror_mode": {
    "name": "ipython",
    "version": 3
   },
   "file_extension": ".py",
   "mimetype": "text/x-python",
   "name": "python",
   "nbconvert_exporter": "python",
   "pygments_lexer": "ipython3",
   "version": "3.8.3"
  }
 },
 "nbformat": 4,
 "nbformat_minor": 4
}

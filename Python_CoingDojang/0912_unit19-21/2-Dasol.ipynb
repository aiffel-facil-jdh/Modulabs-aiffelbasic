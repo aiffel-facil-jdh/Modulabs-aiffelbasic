{
 "cells": [
  {
   "cell_type": "code",
   "execution_count": 68,
   "metadata": {},
   "outputs": [],
   "source": [
    "def solution(N, K):\n",
    "    arr = list(range(2, N+1))\n",
    "    print(arr)\n",
    "    cnt = 0\n",
    "    \n",
    "    while cnt < K:\n",
    "        P = min(arr)\n",
    "\n",
    "        for i in arr:\n",
    "            \n",
    "            if i % P == 0:\n",
    "                cnt += 1\n",
    "                if cnt == K :\n",
    "                    print('res', i)\n",
    "                    break\n",
    "                \n",
    "                else:\n",
    "                    arr.remove(i)\n",
    "                    print(i)"
   ]
  },
  {
   "cell_type": "code",
   "execution_count": 69,
   "metadata": {},
   "outputs": [
    {
     "name": "stdout",
     "output_type": "stream",
     "text": [
      "[2, 3, 4, 5, 6, 7, 8, 9, 10]\n",
      "2\n",
      "4\n",
      "6\n",
      "8\n",
      "10\n",
      "3\n",
      "res 9\n"
     ]
    }
   ],
   "source": [
    "solution(10, 7)"
   ]
  },
  {
   "cell_type": "markdown",
   "metadata": {},
   "source": [
    "### 백준 채점용 인풋"
   ]
  },
  {
   "cell_type": "code",
   "execution_count": 67,
   "metadata": {},
   "outputs": [
    {
     "name": "stdout",
     "output_type": "stream",
     "text": [
      "10 7\n",
      "<class 'int'> <class 'int'>\n",
      "[2, 3, 4, 5, 6, 7, 8, 9, 10]\n"
     ]
    }
   ],
   "source": [
    "N, K = map(int, input().split())\n",
    "print(type(N), type(K))\n",
    "\n",
    "arr = list(range(2, N+1))\n",
    "print(arr)"
   ]
  },
  {
   "cell_type": "markdown",
   "metadata": {},
   "source": [
    "### 백준 채점용"
   ]
  },
  {
   "cell_type": "code",
   "execution_count": 70,
   "metadata": {},
   "outputs": [
    {
     "name": "stdout",
     "output_type": "stream",
     "text": [
      "10 7\n",
      "9\n"
     ]
    }
   ],
   "source": [
    "N, K = map(int, input().split())\n",
    "arr = list(range(2, N+1))\n",
    "cnt = 0\n",
    "\n",
    "while cnt < K:\n",
    "    P = min(arr)\n",
    "\n",
    "    for i in arr:\n",
    "\n",
    "        if i % P == 0:\n",
    "            cnt += 1\n",
    "            if cnt == K :\n",
    "                print(i)\n",
    "                break\n",
    "\n",
    "            else:\n",
    "                arr.remove(i)"
   ]
  },
  {
   "cell_type": "code",
   "execution_count": null,
   "metadata": {},
   "outputs": [],
   "source": []
  }
 ],
 "metadata": {
  "kernelspec": {
   "display_name": "Python 3",
   "language": "python",
   "name": "python3"
  },
  "language_info": {
   "codemirror_mode": {
    "name": "ipython",
    "version": 3
   },
   "file_extension": ".py",
   "mimetype": "text/x-python",
   "name": "python",
   "nbconvert_exporter": "python",
   "pygments_lexer": "ipython3",
   "version": "3.8.3"
  }
 },
 "nbformat": 4,
 "nbformat_minor": 4
}

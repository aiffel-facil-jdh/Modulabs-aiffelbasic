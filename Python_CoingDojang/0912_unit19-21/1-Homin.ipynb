{
 "cells": [
  {
   "cell_type": "code",
   "execution_count": 2,
   "metadata": {},
   "outputs": [],
   "source": [
    "from math import gcd\n",
    "def solution(n, m):\n",
    "    # 1. Python's Power\n",
    "    gcd_ = gcd(n, m)\n",
    "    lcm_ = n * m // gcd_\n",
    "    return [gcd_, lcm_]\n",
    "\n",
    "def solution(n, m):\n",
    "    # 2. simple solution\n",
    "    mul = n * m\n",
    "    while m:\n",
    "        n, m = m, n % m\n",
    "    \n",
    "    return [n, mul // n]\n",
    "\n",
    "\n",
    "def solution(n, m):\n",
    "    # 3. My code\n",
    "    L = list(range(2, m+1))\n",
    "    result = list()\n",
    "    for L_e in L:\n",
    "        if n % L_e == 0 and m % L_e == 0:\n",
    "            result.append(L_e)\n",
    "    if len(result) == 0:\n",
    "        result = [1]\n",
    "    gcd_ = max(result)\n",
    "    return [gcd_, n * m // gcd_]"
   ]
  },
  {
   "cell_type": "code",
   "execution_count": 6,
   "metadata": {
    "tags": []
   },
   "outputs": [
    {
     "output_type": "stream",
     "name": "stdout",
     "text": "[3, 12]\n[1, 10]\n"
    }
   ],
   "source": [
    "if __name__=='__main__':\n",
    "    print(solution(3, 12))\n",
    "    print(solution(2, 5))"
   ]
  },
  {
   "cell_type": "code",
   "execution_count": null,
   "metadata": {},
   "outputs": [],
   "source": []
  }
 ],
 "metadata": {
  "kernelspec": {
   "display_name": "Python 3",
   "language": "python",
   "name": "python3"
  },
  "language_info": {
   "codemirror_mode": {
    "name": "ipython",
    "version": 3
   },
   "file_extension": ".py",
   "mimetype": "text/x-python",
   "name": "python",
   "nbconvert_exporter": "python",
   "pygments_lexer": "ipython3",
   "version": "3.8.3-final"
  }
 },
 "nbformat": 4,
 "nbformat_minor": 4
}
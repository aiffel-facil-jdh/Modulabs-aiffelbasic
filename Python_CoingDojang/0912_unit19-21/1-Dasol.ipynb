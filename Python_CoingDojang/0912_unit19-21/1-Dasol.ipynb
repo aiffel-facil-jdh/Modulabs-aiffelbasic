{
 "cells": [
  {
   "cell_type": "markdown",
   "metadata": {},
   "source": [
    "## 파이썬 내장함수 사용(권장하지 않음)"
   ]
  },
  {
   "cell_type": "code",
   "execution_count": 16,
   "metadata": {},
   "outputs": [],
   "source": [
    "import math\n",
    "def infunc(n, m):\n",
    "\n",
    "    return [math.gcd(n,m), (n*m)//math.gcd(n,m)]"
   ]
  },
  {
   "cell_type": "markdown",
   "metadata": {},
   "source": [
    "## 집합을 이용한 풀이"
   ]
  },
  {
   "cell_type": "code",
   "execution_count": 17,
   "metadata": {},
   "outputs": [],
   "source": [
    "def solution(n, m):\n",
    "    a=[]\n",
    "    b=[]\n",
    "    for i in range(1, n+1):\n",
    "        if n%i == 0: a.append(i)\n",
    "    for i in range(1, m+1):\n",
    "        if m%i == 0: b.append(i)\n",
    "    print(a, b, type(a), type(b))\n",
    "    \n",
    "    set_a = set(a)\n",
    "    set_b = set(b)\n",
    "    \n",
    "    gcd = max(set(a) & set(b))\n",
    "    print(gcd)\n",
    "    \n",
    "    lcm = (n * m) // gcd\n",
    "    \n",
    "    return [gcd, lcm]"
   ]
  },
  {
   "cell_type": "code",
   "execution_count": 24,
   "metadata": {},
   "outputs": [],
   "source": [
    "def main():\n",
    "    a,b = input().split()\n",
    "    print(infunc(int(a),int(b)))\n",
    "    print(solution(int(a),int(b)))"
   ]
  },
  {
   "cell_type": "code",
   "execution_count": 25,
   "metadata": {},
   "outputs": [
    {
     "name": "stdout",
     "output_type": "stream",
     "text": [
      "3 12\n",
      "[3, 12]\n",
      "[1, 3] [1, 2, 3, 4, 6, 12] <class 'list'> <class 'list'>\n",
      "3\n",
      "[3, 12]\n"
     ]
    }
   ],
   "source": [
    "if __name__=='__main__':\n",
    "    main()"
   ]
  },
  {
   "cell_type": "code",
   "execution_count": null,
   "metadata": {},
   "outputs": [],
   "source": []
  }
 ],
 "metadata": {
  "kernelspec": {
   "display_name": "Python 3",
   "language": "python",
   "name": "python3"
  },
  "language_info": {
   "codemirror_mode": {
    "name": "ipython",
    "version": 3
   },
   "file_extension": ".py",
   "mimetype": "text/x-python",
   "name": "python",
   "nbconvert_exporter": "python",
   "pygments_lexer": "ipython3",
   "version": "3.8.3"
  }
 },
 "nbformat": 4,
 "nbformat_minor": 4
}

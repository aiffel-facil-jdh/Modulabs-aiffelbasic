{
 "cells": [
  {
   "cell_type": "code",
   "execution_count": 8,
   "metadata": {},
   "outputs": [],
   "source": [
    "\n",
    "def solution(N, K):\n",
    "    # N, K = list(map(int, input().split()))\n",
    "    P = 2\n",
    "    L = list(range(2, N + 1))\n",
    "\n",
    "    while K:\n",
    "        for L_e in range(P, N + 1, P):\n",
    "            if L_e in L:\n",
    "                L.remove(L_e)\n",
    "                result = L_e\n",
    "                K -= 1\n",
    "            if K == 0:\n",
    "                break\n",
    "        if len(L) != 0:\n",
    "            P = L[0]\n",
    "    print(result)"
   ]
  },
  {
   "cell_type": "code",
   "execution_count": 9,
   "metadata": {
    "tags": []
   },
   "outputs": [
    {
     "output_type": "stream",
     "name": "stdout",
     "text": "9\n"
    }
   ],
   "source": [
    "solution(10, 7)"
   ]
  },
  {
   "cell_type": "code",
   "execution_count": null,
   "metadata": {},
   "outputs": [],
   "source": []
  }
 ],
 "metadata": {
  "kernelspec": {
   "display_name": "Python 3",
   "language": "python",
   "name": "python3"
  },
  "language_info": {
   "codemirror_mode": {
    "name": "ipython",
    "version": 3
   },
   "file_extension": ".py",
   "mimetype": "text/x-python",
   "name": "python",
   "nbconvert_exporter": "python",
   "pygments_lexer": "ipython3",
   "version": "3.8.3-final"
  }
 },
 "nbformat": 4,
 "nbformat_minor": 4
}
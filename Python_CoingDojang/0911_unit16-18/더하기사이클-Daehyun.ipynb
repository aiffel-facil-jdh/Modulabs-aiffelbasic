{
 "cells": [
  {
   "cell_type": "code",
   "execution_count": 62,
   "metadata": {},
   "outputs": [
    {
     "name": "stdout",
     "output_type": "stream",
     "text": [
      "60\n"
     ]
    }
   ],
   "source": [
    "num = int(input())\n",
    "original = num\n",
    "cnt = 0\n",
    "\n",
    "while True:\n",
    "\n",
    "    # 일단 1씩 증가시키고\n",
    "    cnt += 1\n",
    "    \n",
    "    # 만약에 한 자리 수라면 앞에 0을 붙여주고\n",
    "    if len(str(num)) < 2:\n",
    "        num = int('0' + str(num))\n",
    "        \n",
    "    # 십의 자리 숫자 계산\n",
    "    tenth = int(str(num)[-1])\n",
    "    \n",
    "    # 일의 자리 숫자 계산\n",
    "    first = str(sum(map(int, [*str(num)])))[-1]\n",
    "    \n",
    "    # 다음 iteration의 num 구하고\n",
    "    num = int(str(tenth) + str(first)) if tenth != 0 else int(first)\n",
    "    \n",
    "    # 맞으면 while loop 부셔버리기!\n",
    "    if num == original: break\n",
    "        \n",
    "print(cnt)"
   ]
  },
  {
   "cell_type": "code",
   "execution_count": null,
   "metadata": {},
   "outputs": [],
   "source": []
  }
 ],
 "metadata": {
  "kernelspec": {
   "display_name": "Python 3",
   "language": "python",
   "name": "python3"
  },
  "language_info": {
   "codemirror_mode": {
    "name": "ipython",
    "version": 3
   },
   "file_extension": ".py",
   "mimetype": "text/x-python",
   "name": "python",
   "nbconvert_exporter": "python",
   "pygments_lexer": "ipython3",
   "version": "3.7.6"
  }
 },
 "nbformat": 4,
 "nbformat_minor": 4
}
